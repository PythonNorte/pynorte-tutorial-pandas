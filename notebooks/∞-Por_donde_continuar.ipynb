{
 "cells": [
  {
   "cell_type": "markdown",
   "metadata": {},
   "source": [
    "Tutoriales de \n",
    "\n",
    "- [Brandon Rhodes](https://github.com/brandon-rhodes/pycon-pandas-tutorial.git)\n",
    "( [en español](https://github.com/akielbowicz/pycon-pandas-tutorial/tree/en_espa%C3%B1ol) )\n",
    "\n",
    "- [Joris Van den Bossche](https://github.com/jorisvandenbossche/pandas-tutorial) \n",
    "( [en español](https://github.com/akielbowicz/pandas-tutorial/tree/en_espa%C3%B1ol) )\n",
    "\n",
    "[Documentacion de Pandas](https://pandas.pydata.org/pandas-docs/stable/index.html)\n",
    "\n",
    "[Software Carpentry](http://swcarpentry.github.io/python-novice-inflammation/)\n",
    "\n",
    "[Pyvideo](https://pyvideo.org/)\n",
    "\n",
    "[A visual guide to pandas (video)](https://www.youtube.com/watch?v=9d5-Ti6onew&t=1240s)\n",
    "\n",
    "[PythonDataScienceHandbook](https://jakevdp.github.io/PythonDataScienceHandbook/)"
   ]
  }
 ],
 "metadata": {
  "kernelspec": {
   "display_name": "Python 3",
   "language": "python",
   "name": "python3"
  },
  "language_info": {
   "codemirror_mode": {
    "name": "ipython",
    "version": 3
   },
   "file_extension": ".py",
   "mimetype": "text/x-python",
   "name": "python",
   "nbconvert_exporter": "python",
   "pygments_lexer": "ipython3",
   "version": "3.7.0"
  }
 },
 "nbformat": 4,
 "nbformat_minor": 2
}
