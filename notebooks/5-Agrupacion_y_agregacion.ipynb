{
 "cells": [
  {
   "cell_type": "code",
   "execution_count": null,
   "metadata": {},
   "outputs": [],
   "source": [
    "from IPython.core.display import HTML\n",
    "css = open('../style/style-notebook.css').read()\n",
    "HTML('<style>{}</style>'.format(css))"
   ]
  },
  {
   "cell_type": "code",
   "execution_count": 1,
   "metadata": {},
   "outputs": [],
   "source": [
    "%matplotlib inline \n",
    "import pandas as pd"
   ]
  },
  {
   "cell_type": "markdown",
   "metadata": {},
   "source": [
    "### Importar el dataset de *'producto_articulo_XXXX.csv'*"
   ]
  },
  {
   "cell_type": "code",
   "execution_count": 3,
   "metadata": {},
   "outputs": [
    {
     "data": {
      "text/html": [
       "<div>\n",
       "<style scoped>\n",
       "    .dataframe tbody tr th:only-of-type {\n",
       "        vertical-align: middle;\n",
       "    }\n",
       "\n",
       "    .dataframe tbody tr th {\n",
       "        vertical-align: top;\n",
       "    }\n",
       "\n",
       "    .dataframe thead th {\n",
       "        text-align: right;\n",
       "    }\n",
       "</style>\n",
       "<table border=\"1\" class=\"dataframe\">\n",
       "  <thead>\n",
       "    <tr style=\"text-align: right;\">\n",
       "      <th></th>\n",
       "      <th>producto_id</th>\n",
       "      <th>pais_edicion_id</th>\n",
       "      <th>issn</th>\n",
       "      <th>eissn</th>\n",
       "      <th>pagina_inicial</th>\n",
       "      <th>pagina_final</th>\n",
       "      <th>revista</th>\n",
       "      <th>volumen</th>\n",
       "      <th>numero</th>\n",
       "      <th>tomo</th>\n",
       "      <th>doi</th>\n",
       "      <th>editorial</th>\n",
       "      <th>revista_sjr</th>\n",
       "    </tr>\n",
       "  </thead>\n",
       "  <tbody>\n",
       "    <tr>\n",
       "      <th>0</th>\n",
       "      <td>358</td>\n",
       "      <td>3</td>\n",
       "      <td>0103-9954</td>\n",
       "      <td>NaN</td>\n",
       "      <td>NaN</td>\n",
       "      <td>NaN</td>\n",
       "      <td>CIÃªNCIA FLORESTAL</td>\n",
       "      <td>NaN</td>\n",
       "      <td>NaN</td>\n",
       "      <td>NaN</td>\n",
       "      <td>NaN</td>\n",
       "      <td>CENTRO PESQUISAS FLORESTAIS</td>\n",
       "      <td>Q2</td>\n",
       "    </tr>\n",
       "    <tr>\n",
       "      <th>1</th>\n",
       "      <td>1096</td>\n",
       "      <td>21</td>\n",
       "      <td>00278424</td>\n",
       "      <td>NaN</td>\n",
       "      <td>213.0</td>\n",
       "      <td>214.0</td>\n",
       "      <td>PROCEEDINGS OF THE NATIONAL ACADEMY OF SCIENCE...</td>\n",
       "      <td>NaN</td>\n",
       "      <td>NaN</td>\n",
       "      <td>NaN</td>\n",
       "      <td>http://dx.doi.org/10.1073/pnas.1321197111</td>\n",
       "      <td>NATL ACAD SCIENCES</td>\n",
       "      <td>Q1</td>\n",
       "    </tr>\n",
       "    <tr>\n",
       "      <th>2</th>\n",
       "      <td>1219</td>\n",
       "      <td>1</td>\n",
       "      <td>03297322</td>\n",
       "      <td>NaN</td>\n",
       "      <td>63.0</td>\n",
       "      <td>80.0</td>\n",
       "      <td>REVISTA DE LA ESCUELA DE PERFECCIONAMIENTO EN ...</td>\n",
       "      <td>NaN</td>\n",
       "      <td>36</td>\n",
       "      <td>NaN</td>\n",
       "      <td>NaN</td>\n",
       "      <td>ESCUELA DE PERFECCIONAMIENTO EN INVESTIGACIÓN ...</td>\n",
       "      <td>NO INDEXADO</td>\n",
       "    </tr>\n",
       "    <tr>\n",
       "      <th>3</th>\n",
       "      <td>1290</td>\n",
       "      <td>3</td>\n",
       "      <td>1518 0204</td>\n",
       "      <td>NaN</td>\n",
       "      <td>NaN</td>\n",
       "      <td>NaN</td>\n",
       "      <td>LNLS ACTIVITY REPORT 2011</td>\n",
       "      <td>NaN</td>\n",
       "      <td>NaN</td>\n",
       "      <td>NaN</td>\n",
       "      <td>NaN</td>\n",
       "      <td>CUBO</td>\n",
       "      <td>NO INDEXADO</td>\n",
       "    </tr>\n",
       "    <tr>\n",
       "      <th>4</th>\n",
       "      <td>1380</td>\n",
       "      <td>1</td>\n",
       "      <td>03272052</td>\n",
       "      <td>NaN</td>\n",
       "      <td>5.0</td>\n",
       "      <td>30.0</td>\n",
       "      <td>MISCELÁNEA 66</td>\n",
       "      <td>NaN</td>\n",
       "      <td>NaN</td>\n",
       "      <td>NaN</td>\n",
       "      <td>NaN</td>\n",
       "      <td>INTA</td>\n",
       "      <td>NO INDEXADO</td>\n",
       "    </tr>\n",
       "  </tbody>\n",
       "</table>\n",
       "</div>"
      ],
      "text/plain": [
       "   producto_id  pais_edicion_id       issn  eissn  pagina_inicial  \\\n",
       "0          358                3  0103-9954    NaN             NaN   \n",
       "1         1096               21   00278424    NaN           213.0   \n",
       "2         1219                1   03297322    NaN            63.0   \n",
       "3         1290                3  1518 0204    NaN             NaN   \n",
       "4         1380                1   03272052    NaN             5.0   \n",
       "\n",
       "   pagina_final                                            revista volumen  \\\n",
       "0           NaN                                 CIÃªNCIA FLORESTAL     NaN   \n",
       "1         214.0  PROCEEDINGS OF THE NATIONAL ACADEMY OF SCIENCE...     NaN   \n",
       "2          80.0  REVISTA DE LA ESCUELA DE PERFECCIONAMIENTO EN ...     NaN   \n",
       "3           NaN                          LNLS ACTIVITY REPORT 2011     NaN   \n",
       "4          30.0                                      MISCELÁNEA 66     NaN   \n",
       "\n",
       "  numero  tomo                                        doi  \\\n",
       "0    NaN   NaN                                        NaN   \n",
       "1    NaN   NaN  http://dx.doi.org/10.1073/pnas.1321197111   \n",
       "2     36   NaN                                        NaN   \n",
       "3    NaN   NaN                                        NaN   \n",
       "4    NaN   NaN                                        NaN   \n",
       "\n",
       "                                           editorial  revista_sjr  \n",
       "0                        CENTRO PESQUISAS FLORESTAIS           Q2  \n",
       "1                                 NATL ACAD SCIENCES           Q1  \n",
       "2  ESCUELA DE PERFECCIONAMIENTO EN INVESTIGACIÓN ...  NO INDEXADO  \n",
       "3                                               CUBO  NO INDEXADO  \n",
       "4                                               INTA  NO INDEXADO  "
      ]
     },
     "execution_count": 3,
     "metadata": {},
     "output_type": "execute_result"
    }
   ],
   "source": [
    "df = pd.read_csv('../data/producto/producto_articulo_2011.csv', sep=';')\n",
    "df.head()"
   ]
  },
  {
   "cell_type": "markdown",
   "metadata": {},
   "source": [
    "# Vamos a repetir un poco el análisis  anterior, ahora generalizandolo con la ayuda de ```groupby```"
   ]
  },
  {
   "cell_type": "markdown",
   "metadata": {},
   "source": [
    "### ¿ Cuántas páginas tiene el artículo más extenso ? Para cada pais de publicación"
   ]
  },
  {
   "cell_type": "markdown",
   "metadata": {},
   "source": [
    "### ¿Cual es el promedio, el maximo y el minimo numero de paginas que tienen los articulos para cada cuartil de indexación (recordar revista_sjr)? "
   ]
  },
  {
   "cell_type": "markdown",
   "metadata": {},
   "source": [
    "### Solo para las publicaciones en el extranjero, ¿qué numero de editoriales hay por pais?"
   ]
  },
  {
   "cell_type": "markdown",
   "metadata": {},
   "source": [
    "# Veamos que informacion se puede extraer del **doi**\n",
    "\n",
    "Ver un par de ejemplos de la columna *doi* y ver como se puede partir para poder extraer la mayor información.\n",
    "Y a partir de las nuevas columnas que se crearon, calcular valores que les parezcan de interes para describir los distintos grupos de publicaciones."
   ]
  },
  {
   "cell_type": "code",
   "execution_count": null,
   "metadata": {},
   "outputs": [],
   "source": []
  },
  {
   "cell_type": "code",
   "execution_count": null,
   "metadata": {},
   "outputs": [],
   "source": []
  },
  {
   "cell_type": "code",
   "execution_count": null,
   "metadata": {},
   "outputs": [],
   "source": []
  },
  {
   "cell_type": "code",
   "execution_count": null,
   "metadata": {},
   "outputs": [],
   "source": []
  },
  {
   "cell_type": "code",
   "execution_count": null,
   "metadata": {},
   "outputs": [],
   "source": []
  },
  {
   "cell_type": "code",
   "execution_count": null,
   "metadata": {},
   "outputs": [],
   "source": []
  },
  {
   "cell_type": "code",
   "execution_count": null,
   "metadata": {},
   "outputs": [],
   "source": []
  },
  {
   "cell_type": "code",
   "execution_count": null,
   "metadata": {},
   "outputs": [],
   "source": []
  },
  {
   "cell_type": "code",
   "execution_count": null,
   "metadata": {},
   "outputs": [],
   "source": []
  },
  {
   "cell_type": "code",
   "execution_count": null,
   "metadata": {},
   "outputs": [],
   "source": []
  },
  {
   "cell_type": "code",
   "execution_count": null,
   "metadata": {},
   "outputs": [],
   "source": []
  }
 ],
 "metadata": {
  "kernelspec": {
   "display_name": "Python 3",
   "language": "python",
   "name": "python3"
  },
  "language_info": {
   "codemirror_mode": {
    "name": "ipython",
    "version": 3
   },
   "file_extension": ".py",
   "mimetype": "text/x-python",
   "name": "python",
   "nbconvert_exporter": "python",
   "pygments_lexer": "ipython3",
   "version": "3.7.0"
  }
 },
 "nbformat": 4,
 "nbformat_minor": 2
}
